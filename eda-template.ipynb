{
 "cells": [
  {
   "cell_type": "markdown",
   "metadata": {},
   "source": [
    "# Capstone Project part 2: EDA  #\n",
    "## Your FistName Lastname ##\n",
    "**Please use this template to fill in your code and comments (* you can modify for your project need *) ** \n",
    "\n",
    "\n",
    "**Add your readme here** if you have any special configuration or steps needed to follow to run your code \n",
    "\n",
    "\n",
    "** EDA comment by instructor**\n"
   ]
  },
  {
   "cell_type": "markdown",
   "metadata": {},
   "source": [
    "## Step 0: What are you working on\n",
    "** Your project title:**  \n",
    "** What are the outcome of your project:**  \n",
    "** Data Source:(provide a link to dataset if available)**  "
   ]
  },
  {
   "cell_type": "markdown",
   "metadata": {},
   "source": [
    "**Load packages:**"
   ]
  },
  {
   "cell_type": "code",
   "execution_count": 2,
   "metadata": {},
   "outputs": [],
   "source": [
    "import numpy as np\n",
    "import scipy.stats as stats\n",
    "import seaborn as sns\n",
    "import matplotlib.pyplot as plt\n",
    "import pandas as pd\n",
    "from sklearn.preprocessing import StandardScaler\n",
    "%matplotlib inline\n",
    "\n",
    "#more packages import as needed"
   ]
  },
  {
   "cell_type": "markdown",
   "metadata": {},
   "source": [
    "<a id='load_data'></a>\n",
    "\n",
    "### 1. Load the data\n",
    "\n",
    "---\n",
    "\n",
    "Import the csv into a pandas DataFrame."
   ]
  },
  {
   "cell_type": "code",
   "execution_count": 3,
   "metadata": {},
   "outputs": [
    {
     "data": {
      "text/html": [
       "<div>\n",
       "<style scoped>\n",
       "    .dataframe tbody tr th:only-of-type {\n",
       "        vertical-align: middle;\n",
       "    }\n",
       "\n",
       "    .dataframe tbody tr th {\n",
       "        vertical-align: top;\n",
       "    }\n",
       "\n",
       "    .dataframe thead th {\n",
       "        text-align: right;\n",
       "    }\n",
       "</style>\n",
       "<table border=\"1\" class=\"dataframe\">\n",
       "  <thead>\n",
       "    <tr style=\"text-align: right;\">\n",
       "      <th></th>\n",
       "      <th>Date</th>\n",
       "      <th>TGT</th>\n",
       "      <th>LOW</th>\n",
       "      <th>PNW</th>\n",
       "      <th>SPGI</th>\n",
       "      <th>HRL</th>\n",
       "      <th>MAS</th>\n",
       "      <th>PCG</th>\n",
       "      <th>MAC</th>\n",
       "      <th>TMK</th>\n",
       "      <th>PCAR</th>\n",
       "    </tr>\n",
       "  </thead>\n",
       "  <tbody>\n",
       "    <tr>\n",
       "      <th>602</th>\n",
       "      <td>5/24/18</td>\n",
       "      <td>70.940002</td>\n",
       "      <td>96.489998</td>\n",
       "      <td>78.019997</td>\n",
       "      <td>199.320007</td>\n",
       "      <td>35.419998</td>\n",
       "      <td>37.520000</td>\n",
       "      <td>43.830002</td>\n",
       "      <td>54.750000</td>\n",
       "      <td>86.209999</td>\n",
       "      <td>65.230003</td>\n",
       "    </tr>\n",
       "    <tr>\n",
       "      <th>603</th>\n",
       "      <td>5/25/18</td>\n",
       "      <td>71.209999</td>\n",
       "      <td>96.690002</td>\n",
       "      <td>78.389999</td>\n",
       "      <td>200.360001</td>\n",
       "      <td>35.860001</td>\n",
       "      <td>37.900002</td>\n",
       "      <td>44.660000</td>\n",
       "      <td>54.750000</td>\n",
       "      <td>85.709999</td>\n",
       "      <td>64.639999</td>\n",
       "    </tr>\n",
       "    <tr>\n",
       "      <th>604</th>\n",
       "      <td>5/29/18</td>\n",
       "      <td>71.699997</td>\n",
       "      <td>95.779999</td>\n",
       "      <td>78.889999</td>\n",
       "      <td>197.199997</td>\n",
       "      <td>36.509998</td>\n",
       "      <td>37.549999</td>\n",
       "      <td>42.340000</td>\n",
       "      <td>55.320000</td>\n",
       "      <td>83.129997</td>\n",
       "      <td>63.509998</td>\n",
       "    </tr>\n",
       "    <tr>\n",
       "      <th>605</th>\n",
       "      <td>5/30/18</td>\n",
       "      <td>73.470001</td>\n",
       "      <td>97.419998</td>\n",
       "      <td>79.820000</td>\n",
       "      <td>199.520004</td>\n",
       "      <td>37.169998</td>\n",
       "      <td>38.160000</td>\n",
       "      <td>43.090000</td>\n",
       "      <td>56.150002</td>\n",
       "      <td>85.099998</td>\n",
       "      <td>64.269997</td>\n",
       "    </tr>\n",
       "    <tr>\n",
       "      <th>606</th>\n",
       "      <td>5/31/18</td>\n",
       "      <td>72.889999</td>\n",
       "      <td>95.010002</td>\n",
       "      <td>79.610001</td>\n",
       "      <td>197.500000</td>\n",
       "      <td>35.889999</td>\n",
       "      <td>37.270000</td>\n",
       "      <td>43.330002</td>\n",
       "      <td>55.630001</td>\n",
       "      <td>84.830002</td>\n",
       "      <td>62.230000</td>\n",
       "    </tr>\n",
       "  </tbody>\n",
       "</table>\n",
       "</div>"
      ],
      "text/plain": [
       "        Date        TGT        LOW        PNW        SPGI        HRL  \\\n",
       "602  5/24/18  70.940002  96.489998  78.019997  199.320007  35.419998   \n",
       "603  5/25/18  71.209999  96.690002  78.389999  200.360001  35.860001   \n",
       "604  5/29/18  71.699997  95.779999  78.889999  197.199997  36.509998   \n",
       "605  5/30/18  73.470001  97.419998  79.820000  199.520004  37.169998   \n",
       "606  5/31/18  72.889999  95.010002  79.610001  197.500000  35.889999   \n",
       "\n",
       "           MAS        PCG        MAC        TMK       PCAR  \n",
       "602  37.520000  43.830002  54.750000  86.209999  65.230003  \n",
       "603  37.900002  44.660000  54.750000  85.709999  64.639999  \n",
       "604  37.549999  42.340000  55.320000  83.129997  63.509998  \n",
       "605  38.160000  43.090000  56.150002  85.099998  64.269997  \n",
       "606  37.270000  43.330002  55.630001  84.830002  62.230000  "
      ]
     },
     "execution_count": 3,
     "metadata": {},
     "output_type": "execute_result"
    }
   ],
   "source": [
    "#put you csv file in the same folder as this jupyter notebook file\n",
    "#read in your data into a dataframe like df = pd.read_csv(\"yourfile.csv\")\n",
    "df = pd.read_csv(\"/Users/Twest94/Documents/consolidated_prices.csv\")\n",
    "#df.head()\n",
    "df.tail()"
   ]
  },
  {
   "cell_type": "markdown",
   "metadata": {},
   "source": [
    "### 2. Describe the basic format of the data and the columns\n",
    "\n",
    "---\n",
    "\n",
    "Use the `.head()` function (and optionally pass in an integer for the number of rows you want to see) to examine what the loaded data looks like. This is a good initial step to get a feel for what is in the csv and what problems may be present.\n",
    "\n",
    "The `.dtypes` attribute tells you the data type for each of your columns.\n",
    "\n",
    "Describe what you see"
   ]
  },
  {
   "cell_type": "code",
   "execution_count": 4,
   "metadata": {},
   "outputs": [
    {
     "data": {
      "text/plain": [
       "Date     object\n",
       "TGT     float64\n",
       "LOW     float64\n",
       "PNW     float64\n",
       "SPGI    float64\n",
       "HRL     float64\n",
       "MAS     float64\n",
       "PCG     float64\n",
       "MAC     float64\n",
       "TMK     float64\n",
       "PCAR    float64\n",
       "dtype: object"
      ]
     },
     "execution_count": 4,
     "metadata": {},
     "output_type": "execute_result"
    }
   ],
   "source": [
    "df.dtypes"
   ]
  },
  {
   "cell_type": "markdown",
   "metadata": {},
   "source": [
    "---\n",
    "\n",
    "Use the `.info()` function  to see how many rows and data types you got. This will also tell you how many rows of each column have content\n",
    "\n",
    "Describe what you see"
   ]
  },
  {
   "cell_type": "code",
   "execution_count": 5,
   "metadata": {},
   "outputs": [
    {
     "name": "stdout",
     "output_type": "stream",
     "text": [
      "<class 'pandas.core.frame.DataFrame'>\n",
      "RangeIndex: 607 entries, 0 to 606\n",
      "Data columns (total 11 columns):\n",
      "Date    607 non-null object\n",
      "TGT     607 non-null float64\n",
      "LOW     607 non-null float64\n",
      "PNW     607 non-null float64\n",
      "SPGI    607 non-null float64\n",
      "HRL     607 non-null float64\n",
      "MAS     607 non-null float64\n",
      "PCG     607 non-null float64\n",
      "MAC     607 non-null float64\n",
      "TMK     607 non-null float64\n",
      "PCAR    607 non-null float64\n",
      "dtypes: float64(10), object(1)\n",
      "memory usage: 52.2+ KB\n"
     ]
    }
   ],
   "source": [
    "df.info()"
   ]
  },
  {
   "cell_type": "code",
   "execution_count": 6,
   "metadata": {},
   "outputs": [
    {
     "data": {
      "text/html": [
       "<div>\n",
       "<style scoped>\n",
       "    .dataframe tbody tr th:only-of-type {\n",
       "        vertical-align: middle;\n",
       "    }\n",
       "\n",
       "    .dataframe tbody tr th {\n",
       "        vertical-align: top;\n",
       "    }\n",
       "\n",
       "    .dataframe thead th {\n",
       "        text-align: right;\n",
       "    }\n",
       "</style>\n",
       "<table border=\"1\" class=\"dataframe\">\n",
       "  <thead>\n",
       "    <tr style=\"text-align: right;\">\n",
       "      <th></th>\n",
       "      <th>Date</th>\n",
       "      <th>TGT</th>\n",
       "      <th>LOW</th>\n",
       "      <th>PNW</th>\n",
       "      <th>SPGI</th>\n",
       "      <th>HRL</th>\n",
       "      <th>MAS</th>\n",
       "      <th>PCG</th>\n",
       "      <th>MAC</th>\n",
       "      <th>TMK</th>\n",
       "      <th>PCAR</th>\n",
       "    </tr>\n",
       "  </thead>\n",
       "  <tbody>\n",
       "    <tr>\n",
       "      <th>0</th>\n",
       "      <td>1/4/16</td>\n",
       "      <td>67.183975</td>\n",
       "      <td>71.943558</td>\n",
       "      <td>58.900368</td>\n",
       "      <td>92.016640</td>\n",
       "      <td>36.720364</td>\n",
       "      <td>27.009048</td>\n",
       "      <td>50.130516</td>\n",
       "      <td>70.521255</td>\n",
       "      <td>55.184464</td>\n",
       "      <td>44.150124</td>\n",
       "    </tr>\n",
       "    <tr>\n",
       "      <th>1</th>\n",
       "      <td>1/5/16</td>\n",
       "      <td>68.362328</td>\n",
       "      <td>72.096474</td>\n",
       "      <td>59.194500</td>\n",
       "      <td>92.327248</td>\n",
       "      <td>37.466785</td>\n",
       "      <td>26.902178</td>\n",
       "      <td>50.206276</td>\n",
       "      <td>73.237701</td>\n",
       "      <td>55.860538</td>\n",
       "      <td>44.159489</td>\n",
       "    </tr>\n",
       "    <tr>\n",
       "      <th>2</th>\n",
       "      <td>1/6/16</td>\n",
       "      <td>67.668106</td>\n",
       "      <td>70.662941</td>\n",
       "      <td>59.277222</td>\n",
       "      <td>91.317772</td>\n",
       "      <td>37.593540</td>\n",
       "      <td>26.692575</td>\n",
       "      <td>49.922195</td>\n",
       "      <td>72.589653</td>\n",
       "      <td>54.782722</td>\n",
       "      <td>44.168854</td>\n",
       "    </tr>\n",
       "    <tr>\n",
       "      <th>3</th>\n",
       "      <td>1/7/16</td>\n",
       "      <td>67.485428</td>\n",
       "      <td>68.875816</td>\n",
       "      <td>59.258846</td>\n",
       "      <td>88.444687</td>\n",
       "      <td>36.912838</td>\n",
       "      <td>25.473957</td>\n",
       "      <td>49.675991</td>\n",
       "      <td>71.684166</td>\n",
       "      <td>53.861679</td>\n",
       "      <td>42.830109</td>\n",
       "    </tr>\n",
       "    <tr>\n",
       "      <th>4</th>\n",
       "      <td>1/8/16</td>\n",
       "      <td>65.201790</td>\n",
       "      <td>67.738548</td>\n",
       "      <td>58.845215</td>\n",
       "      <td>85.911316</td>\n",
       "      <td>36.696892</td>\n",
       "      <td>24.889025</td>\n",
       "      <td>49.297226</td>\n",
       "      <td>69.961967</td>\n",
       "      <td>53.322769</td>\n",
       "      <td>42.343311</td>\n",
       "    </tr>\n",
       "  </tbody>\n",
       "</table>\n",
       "</div>"
      ],
      "text/plain": [
       "     Date        TGT        LOW        PNW       SPGI        HRL        MAS  \\\n",
       "0  1/4/16  67.183975  71.943558  58.900368  92.016640  36.720364  27.009048   \n",
       "1  1/5/16  68.362328  72.096474  59.194500  92.327248  37.466785  26.902178   \n",
       "2  1/6/16  67.668106  70.662941  59.277222  91.317772  37.593540  26.692575   \n",
       "3  1/7/16  67.485428  68.875816  59.258846  88.444687  36.912838  25.473957   \n",
       "4  1/8/16  65.201790  67.738548  58.845215  85.911316  36.696892  24.889025   \n",
       "\n",
       "         PCG        MAC        TMK       PCAR  \n",
       "0  50.130516  70.521255  55.184464  44.150124  \n",
       "1  50.206276  73.237701  55.860538  44.159489  \n",
       "2  49.922195  72.589653  54.782722  44.168854  \n",
       "3  49.675991  71.684166  53.861679  42.830109  \n",
       "4  49.297226  69.961967  53.322769  42.343311  "
      ]
     },
     "execution_count": 6,
     "metadata": {},
     "output_type": "execute_result"
    }
   ],
   "source": [
    "df.head()"
   ]
  },
  {
   "cell_type": "markdown",
   "metadata": {},
   "source": [
    "<a id='drop'></a>\n",
    "\n",
    "### 2. Drop unwanted columns\n",
    "\n",
    "---\n",
    "You may want to focus on selected columns as your input features. You can drop those unwanted columns.\n",
    "\n",
    "The `.drop()` built-in function can be used to get rid of a column. When removing a column, we need to specify `axis=1` to the function.\n",
    "\n",
    "For the record, the `.index` attribute holds the row indices. This is the the sister attribute to the `.columns` attribute that we work with more often.\n",
    "\n"
   ]
  },
  {
   "cell_type": "code",
   "execution_count": 7,
   "metadata": {},
   "outputs": [],
   "source": [
    "# Remove the unneccesary column:\n",
    "# no unwanted columns"
   ]
  },
  {
   "cell_type": "markdown",
   "metadata": {},
   "source": [
    "### 3. Clean corrupted columns (if there is any)\n",
    "\n",
    "---\n",
    "\n",
    "Did you notice when you examined the `dtypes` attribute that some of the columns were of type \"object\", indicating that they were string. For some case, these columns should be numeric instead.\n",
    "\n",
    "It is pretty common to have numeric columns represented as strings in your data if some of the observations are corrupted. It is important to always check the data types of your columns."
   ]
  },
  {
   "cell_type": "code",
   "execution_count": 8,
   "metadata": {},
   "outputs": [],
   "source": [
    "# Use this to inspect what content you have in columns marked 'object'\n",
    "# df['column_name'].values "
   ]
  },
  {
   "cell_type": "code",
   "execution_count": 9,
   "metadata": {},
   "outputs": [],
   "source": [
    "# If you find a pattern of corrupted content in the column marked as object type, \n",
    "# you may replace it with some meaningful numerical content\n",
    "# df['column_name'] = [ float(x.replace('old','new')) for x in df['column_name']]\n"
   ]
  },
  {
   "cell_type": "code",
   "execution_count": 10,
   "metadata": {},
   "outputs": [],
   "source": [
    "#check to see if the corrupted columns got corrected and become a numerical columns\n",
    "#Look into df.info() again"
   ]
  },
  {
   "cell_type": "markdown",
   "metadata": {},
   "source": [
    "\n",
    "### 4. Determine how many observations are missing\n",
    "\n",
    "---\n",
    "\n",
    "When we start to build models with data, null values in observations are (almost) never allowed. It is important to always see how many observations are missing and for which columns.\n",
    "\n",
    "A handy way to look at how many null values there are per column with pandas is:\n",
    "\n",
    "```python\n",
    "boston.isnull().sum()\n",
    "```\n",
    "\n",
    "The `.isull()` built-in function will convert the columns to boolean `True` and `False` values (returning a new dataframe) where null values are indicated by `True`. \n",
    "\n",
    "The `.sum()` function tacked on to the back of that will then sum these boolean columns, and the total number of null values per column will be returned."
   ]
  },
  {
   "cell_type": "code",
   "execution_count": 11,
   "metadata": {},
   "outputs": [
    {
     "data": {
      "text/plain": [
       "Date    0\n",
       "TGT     0\n",
       "LOW     0\n",
       "PNW     0\n",
       "SPGI    0\n",
       "HRL     0\n",
       "MAS     0\n",
       "PCG     0\n",
       "MAC     0\n",
       "TMK     0\n",
       "PCAR    0\n",
       "dtype: int64"
      ]
     },
     "execution_count": 11,
     "metadata": {},
     "output_type": "execute_result"
    }
   ],
   "source": [
    "# How many columns have how null values?\n",
    "df.isnull().sum()"
   ]
  },
  {
   "cell_type": "markdown",
   "metadata": {},
   "source": [
    "**Drop the null values.** \n",
    "\n",
    "In this case, lets keep it simple and just drop the rows from the dataset that contain null values. If a column has a ton of null values it often makes more sense to drop the column entirely instead of the rows with null values. In this case, we will just drop the rows.\n",
    "\n",
    "The `.dropna()` function will drop any rows that have _**ANY**_ null values for you.  Use this carefully as you could drop many more rows than expected.\n",
    "\n",
    "** Instead of dropping null values, you may want to impute them (replace with the mean(numeric type) or most frequently occured item(object type) **"
   ]
  },
  {
   "cell_type": "code",
   "execution_count": 12,
   "metadata": {},
   "outputs": [],
   "source": [
    "# use df.shape to check the size before dropping anything"
   ]
  },
  {
   "cell_type": "code",
   "execution_count": 13,
   "metadata": {},
   "outputs": [],
   "source": [
    "# Now drop the rows with null values\n",
    "# df.dropna(inplace=True)\n",
    "# check the new size after dropping by df.shape"
   ]
  },
  {
   "cell_type": "markdown",
   "metadata": {},
   "source": [
    "### 5. Make the column names more descriptive\n",
    "\n",
    "---\n",
    "\n",
    "Often it is annoying to have to memorize what the codes mean for columns, or reference the codebook whenever I want to know the meaning of a variable. It often makes sense to rename columns that are not descriptive.\n",
    "\n",
    "There is more than one way to do this, but one easy way is to use the `.rename()` function.\n"
   ]
  },
  {
   "cell_type": "code",
   "execution_count": 14,
   "metadata": {},
   "outputs": [
    {
     "data": {
      "text/plain": [
       "Index(['Date', 'TGT', 'LOW', 'PNW', 'SPGI', 'HRL', 'MAS', 'PCG', 'MAC', 'TMK',\n",
       "       'PCAR'],\n",
       "      dtype='object')"
      ]
     },
     "execution_count": 14,
     "metadata": {},
     "output_type": "execute_result"
    }
   ],
   "source": [
    "# Look at the original column names\n",
    "df.columns"
   ]
  },
  {
   "cell_type": "markdown",
   "metadata": {},
   "source": [
    "There two popular methods to rename dataframe columns.\n",
    "1. Using a _dictionary substitution_, which is very useful if you only want to rename a few of the columns. This method uses the `.rename()` function.\n",
    "2. Using a _list replacement_, which is quicker than writing out a dictionary, but requires a full list of names."
   ]
  },
  {
   "cell_type": "code",
   "execution_count": 15,
   "metadata": {},
   "outputs": [],
   "source": [
    "# Dictionary Method\n",
    "# new_column={\n",
    "#         'column1_old':'column1_new',\n",
    "#         'column2_old':'column2_new',\n",
    "#         #more here,\n",
    "#         'columnlast_old':'columnlast_new'    \n",
    "# }\n",
    "# df.rename(columns=new_column, inplace =True)\n",
    "# df.head(2)"
   ]
  },
  {
   "cell_type": "code",
   "execution_count": 16,
   "metadata": {},
   "outputs": [],
   "source": [
    "# List Replacement Method\n",
    "# new_names = ['column1_new','column2_new',\n",
    "#              #more here\n",
    "#             'columnlast_new']\n",
    "# df.columns=new_names\n",
    "# df.head(2)"
   ]
  },
  {
   "cell_type": "markdown",
   "metadata": {},
   "source": [
    "<a id='describe'></a>\n",
    "\n",
    "### 6. Describe the summary statistics for the columns\n",
    "\n",
    "---\n",
    "\n",
    "The `.describe()` function gives summary statistics for each of your variables. What are some, if any, oddities you notice about the variables based on this output?"
   ]
  },
  {
   "cell_type": "code",
   "execution_count": 17,
   "metadata": {},
   "outputs": [
    {
     "data": {
      "text/html": [
       "<div>\n",
       "<style scoped>\n",
       "    .dataframe tbody tr th:only-of-type {\n",
       "        vertical-align: middle;\n",
       "    }\n",
       "\n",
       "    .dataframe tbody tr th {\n",
       "        vertical-align: top;\n",
       "    }\n",
       "\n",
       "    .dataframe thead th {\n",
       "        text-align: right;\n",
       "    }\n",
       "</style>\n",
       "<table border=\"1\" class=\"dataframe\">\n",
       "  <thead>\n",
       "    <tr style=\"text-align: right;\">\n",
       "      <th></th>\n",
       "      <th>count</th>\n",
       "      <th>mean</th>\n",
       "      <th>std</th>\n",
       "      <th>min</th>\n",
       "      <th>25%</th>\n",
       "      <th>50%</th>\n",
       "      <th>75%</th>\n",
       "      <th>max</th>\n",
       "    </tr>\n",
       "  </thead>\n",
       "  <tbody>\n",
       "    <tr>\n",
       "      <th>TGT</th>\n",
       "      <td>607.0</td>\n",
       "      <td>63.842571</td>\n",
       "      <td>7.881389</td>\n",
       "      <td>48.295090</td>\n",
       "      <td>56.951647</td>\n",
       "      <td>64.219612</td>\n",
       "      <td>70.455650</td>\n",
       "      <td>77.347748</td>\n",
       "    </tr>\n",
       "    <tr>\n",
       "      <th>LOW</th>\n",
       "      <td>607.0</td>\n",
       "      <td>77.561937</td>\n",
       "      <td>8.465399</td>\n",
       "      <td>60.833733</td>\n",
       "      <td>71.835285</td>\n",
       "      <td>76.655617</td>\n",
       "      <td>81.239948</td>\n",
       "      <td>106.877960</td>\n",
       "    </tr>\n",
       "    <tr>\n",
       "      <th>PNW</th>\n",
       "      <td>607.0</td>\n",
       "      <td>76.467213</td>\n",
       "      <td>7.393643</td>\n",
       "      <td>58.146652</td>\n",
       "      <td>71.004047</td>\n",
       "      <td>76.370003</td>\n",
       "      <td>82.405418</td>\n",
       "      <td>90.230644</td>\n",
       "    </tr>\n",
       "    <tr>\n",
       "      <th>SPGI</th>\n",
       "      <td>607.0</td>\n",
       "      <td>135.556980</td>\n",
       "      <td>32.148910</td>\n",
       "      <td>78.398560</td>\n",
       "      <td>111.677384</td>\n",
       "      <td>128.265335</td>\n",
       "      <td>157.839454</td>\n",
       "      <td>200.437195</td>\n",
       "    </tr>\n",
       "    <tr>\n",
       "      <th>HRL</th>\n",
       "      <td>607.0</td>\n",
       "      <td>34.783443</td>\n",
       "      <td>2.573885</td>\n",
       "      <td>29.666290</td>\n",
       "      <td>33.251022</td>\n",
       "      <td>34.364895</td>\n",
       "      <td>36.175041</td>\n",
       "      <td>42.375641</td>\n",
       "    </tr>\n",
       "    <tr>\n",
       "      <th>MAS</th>\n",
       "      <td>607.0</td>\n",
       "      <td>35.043501</td>\n",
       "      <td>4.838458</td>\n",
       "      <td>22.870993</td>\n",
       "      <td>31.610958</td>\n",
       "      <td>34.635315</td>\n",
       "      <td>38.412593</td>\n",
       "      <td>46.150337</td>\n",
       "    </tr>\n",
       "    <tr>\n",
       "      <th>PCG</th>\n",
       "      <td>607.0</td>\n",
       "      <td>57.336306</td>\n",
       "      <td>8.206375</td>\n",
       "      <td>38.240002</td>\n",
       "      <td>53.326412</td>\n",
       "      <td>58.549900</td>\n",
       "      <td>64.507225</td>\n",
       "      <td>71.002007</td>\n",
       "    </tr>\n",
       "    <tr>\n",
       "      <th>MAC</th>\n",
       "      <td>607.0</td>\n",
       "      <td>63.405774</td>\n",
       "      <td>7.462555</td>\n",
       "      <td>50.777073</td>\n",
       "      <td>56.803623</td>\n",
       "      <td>62.925316</td>\n",
       "      <td>69.693344</td>\n",
       "      <td>81.118835</td>\n",
       "    </tr>\n",
       "    <tr>\n",
       "      <th>TMK</th>\n",
       "      <td>607.0</td>\n",
       "      <td>72.064070</td>\n",
       "      <td>11.875994</td>\n",
       "      <td>47.600521</td>\n",
       "      <td>61.293060</td>\n",
       "      <td>74.964920</td>\n",
       "      <td>82.033928</td>\n",
       "      <td>93.142609</td>\n",
       "    </tr>\n",
       "    <tr>\n",
       "      <th>PCAR</th>\n",
       "      <td>607.0</td>\n",
       "      <td>60.767368</td>\n",
       "      <td>7.943460</td>\n",
       "      <td>41.472656</td>\n",
       "      <td>53.772160</td>\n",
       "      <td>63.135555</td>\n",
       "      <td>66.354774</td>\n",
       "      <td>78.361931</td>\n",
       "    </tr>\n",
       "  </tbody>\n",
       "</table>\n",
       "</div>"
      ],
      "text/plain": [
       "      count        mean        std        min         25%         50%  \\\n",
       "TGT   607.0   63.842571   7.881389  48.295090   56.951647   64.219612   \n",
       "LOW   607.0   77.561937   8.465399  60.833733   71.835285   76.655617   \n",
       "PNW   607.0   76.467213   7.393643  58.146652   71.004047   76.370003   \n",
       "SPGI  607.0  135.556980  32.148910  78.398560  111.677384  128.265335   \n",
       "HRL   607.0   34.783443   2.573885  29.666290   33.251022   34.364895   \n",
       "MAS   607.0   35.043501   4.838458  22.870993   31.610958   34.635315   \n",
       "PCG   607.0   57.336306   8.206375  38.240002   53.326412   58.549900   \n",
       "MAC   607.0   63.405774   7.462555  50.777073   56.803623   62.925316   \n",
       "TMK   607.0   72.064070  11.875994  47.600521   61.293060   74.964920   \n",
       "PCAR  607.0   60.767368   7.943460  41.472656   53.772160   63.135555   \n",
       "\n",
       "             75%         max  \n",
       "TGT    70.455650   77.347748  \n",
       "LOW    81.239948  106.877960  \n",
       "PNW    82.405418   90.230644  \n",
       "SPGI  157.839454  200.437195  \n",
       "HRL    36.175041   42.375641  \n",
       "MAS    38.412593   46.150337  \n",
       "PCG    64.507225   71.002007  \n",
       "MAC    69.693344   81.118835  \n",
       "TMK    82.033928   93.142609  \n",
       "PCAR   66.354774   78.361931  "
      ]
     },
     "execution_count": 17,
     "metadata": {},
     "output_type": "execute_result"
    }
   ],
   "source": [
    "# A:\n",
    "df.describe().T"
   ]
  },
  {
   "cell_type": "code",
   "execution_count": 18,
   "metadata": {},
   "outputs": [
    {
     "data": {
      "text/plain": [
       "0   2016-01-04\n",
       "1   2016-01-05\n",
       "2   2016-01-06\n",
       "3   2016-01-07\n",
       "4   2016-01-08\n",
       "Name: Date, dtype: datetime64[ns]"
      ]
     },
     "execution_count": 18,
     "metadata": {},
     "output_type": "execute_result"
    }
   ],
   "source": [
    "df['Date'] = pd.to_datetime(df['Date'])\n",
    "df['Date'].head()"
   ]
  },
  {
   "cell_type": "markdown",
   "metadata": {},
   "source": [
    "### 7. Plot variables with potential outliers using boxplots.\n",
    "\n",
    "---\n",
    "You can use the seaborn package to plot boxplots of the variables we have identified as potentially having outliers.\n",
    "\n",
    "Some notes on seaborn's boxplot keyword argument options:\n",
    "\n",
    "    orient: can be 'v' or 'h' for vertical and horizontal, respectively\n",
    "    fliersize: the size of the outlier points (pixels I think)\n",
    "    linewidth: the width of line outlining the boxplot\n",
    "    notch: show the confidence interval for the median (calculated by seaborn/plt.boxplot)\n",
    "    saturation: saturate the colors to an extent\n",
    "** What did you see and conclude out these boxplots?"
   ]
  },
  {
   "cell_type": "code",
   "execution_count": 19,
   "metadata": {},
   "outputs": [
    {
     "data": {
      "text/plain": [
       "<matplotlib.axes._subplots.AxesSubplot at 0x112b46160>"
      ]
     },
     "execution_count": 19,
     "metadata": {},
     "output_type": "execute_result"
    },
    {
     "data": {
      "image/png": "[encoded data removed]",
      "text/plain": [
       "<matplotlib.figure.Figure at 0x10bf45f28>"
      ]
     },
     "metadata": {},
     "output_type": "display_data"
    }
   ],
   "source": [
    "df['TGT'].plot(x = df['Date'])"
   ]
  },
  {
   "cell_type": "code",
   "execution_count": null,
   "metadata": {},
   "outputs": [],
   "source": [
    "\n"
   ]
  },
  {
   "cell_type": "code",
   "execution_count": null,
   "metadata": {},
   "outputs": [],
   "source": []
  },
  {
   "cell_type": "code",
   "execution_count": null,
   "metadata": {},
   "outputs": [],
   "source": [
    "\n"
   ]
  },
  {
   "cell_type": "markdown",
   "metadata": {},
   "source": [
    "### 8.Other relevants plots \n",
    "\n",
    "---\n",
    "What can you infer out of these additonal plots as related to your problem?"
   ]
  },
  {
   "cell_type": "code",
   "execution_count": 20,
   "metadata": {},
   "outputs": [],
   "source": [
    "# A:"
   ]
  },
  {
   "cell_type": "markdown",
   "metadata": {},
   "source": [
    "\n",
    "<a id='standardization'></a>\n",
    "\n",
    "### 9. Standardizing variables\n",
    "\n",
    "---\n",
    "\n",
    "Rescaling variables is very common, and sometimes essential. For example, when we get to regularization of models the rescaling procedure becomes a requirement before fitting the model.\n",
    "\n",
    "Here we'll rescale the variables using a procedure called \"standardization\", which forces the distribution of each variable to have a mean of 0 and a standard deviation of 1.\n",
    "\n",
    "Standardization is not complicated:\n",
    "\n",
    "    standardized_variable = (variable - mean_of_variable) / std_dev_of_variable\n",
    "    \n",
    "Note: Nothing else is changed about the distribution of the variable. It doesn't become normally distributed.\n",
    "\n",
    "\n",
    "Also print out the mean and standard deviation of the original variable."
   ]
  },
  {
   "cell_type": "code",
   "execution_count": 21,
   "metadata": {},
   "outputs": [],
   "source": [
    "# select the columns out of your dataframe to be standardized (usually it will be your input features)\n",
    "# X= df[['column1','column2', 'more if needed']]\n",
    "#check its mean and standard deviation before standardizing\n",
    "# X.mean()\n",
    "# X.std()\n"
   ]
  },
  {
   "cell_type": "code",
   "execution_count": 22,
   "metadata": {},
   "outputs": [
    {
     "ename": "NameError",
     "evalue": "name 'X' is not defined",
     "output_type": "error",
     "traceback": [
      "\u001b[0;31m---------------------------------------------------------------------------\u001b[0m",
      "\u001b[0;31mNameError\u001b[0m                                 Traceback (most recent call last)",
      "\u001b[0;32m<ipython-input-22-8841ce6afcaf>\u001b[0m in \u001b[0;36m<module>\u001b[0;34m()\u001b[0m\n\u001b[1;32m      1\u001b[0m \u001b[0mscaler\u001b[0m \u001b[0;34m=\u001b[0m \u001b[0mStandardScaler\u001b[0m\u001b[0;34m(\u001b[0m\u001b[0;34m)\u001b[0m\u001b[0;34m\u001b[0m\u001b[0m\n\u001b[0;32m----> 2\u001b[0;31m \u001b[0mX_standardized\u001b[0m \u001b[0;34m=\u001b[0m \u001b[0mscaler\u001b[0m\u001b[0;34m.\u001b[0m\u001b[0mfit_transform\u001b[0m\u001b[0;34m(\u001b[0m\u001b[0mX\u001b[0m\u001b[0;34m)\u001b[0m\u001b[0;34m\u001b[0m\u001b[0m\n\u001b[0m\u001b[1;32m      3\u001b[0m \u001b[0;31m#check its mean and standard deviation after standardizing\u001b[0m\u001b[0;34m\u001b[0m\u001b[0;34m\u001b[0m\u001b[0m\n\u001b[1;32m      4\u001b[0m \u001b[0;31m#X_standardized.mean()\u001b[0m\u001b[0;34m\u001b[0m\u001b[0;34m\u001b[0m\u001b[0m\n\u001b[1;32m      5\u001b[0m \u001b[0;31m# X_standardized.std()\u001b[0m\u001b[0;34m\u001b[0m\u001b[0;34m\u001b[0m\u001b[0m\n",
      "\u001b[0;31mNameError\u001b[0m: name 'X' is not defined"
     ]
    }
   ],
   "source": [
    "# scaler = StandardScaler()\n",
    "# X_standardized = scaler.fit_transform(X)\n",
    "#check its mean and standard deviation after standardizing\n",
    "#X_standardized.mean()\n",
    "# X_standardized.std()\n",
    "#What difference did you see? Describe here\n"
   ]
  },
  {
   "cell_type": "markdown",
   "metadata": {},
   "source": [
    "### 10. Correlation matrices\n",
    "\n",
    "---\n",
    "\n",
    "A great way to easily get a feel for linear relationships between your variables is with a correlation matrix.\n",
    "\n"
   ]
  },
  {
   "cell_type": "markdown",
   "metadata": {},
   "source": [
    "####  Correlation\n",
    "\n",
    "\n",
    "A much more common metric, and one directly calculable from the covariance, is the correlation.\n",
    "\n",
    "Again, let $X$ and $Y$ be our two variables, with covariance $cov(X, Y)$ that we calculated above:\n",
    "\n",
    "### $$ \\text{pearson correlation}\\;r = cor(X, Y) =\\frac{cov(X, Y)}{std(X)std(Y)}$$\n",
    "\n"
   ]
  },
  {
   "cell_type": "markdown",
   "metadata": {},
   "source": [
    "#### The correlation matrix\n",
    "\n",
    "We can see the correlation between all the numeric variables in our dataset by using pandas DataFrame's built in `.corr()` function. Use it below on the boston dataset.\n",
    "\n",
    "It is very useful to get a feel for what is related and what is not, which can help you decide what is worth investigating further (though with a lot of variables, the matrix can be a bit overwhelming...)"
   ]
  },
  {
   "cell_type": "code",
   "execution_count": 23,
   "metadata": {},
   "outputs": [
    {
     "data": {
      "text/html": [
       "<div>\n",
       "<style scoped>\n",
       "    .dataframe tbody tr th:only-of-type {\n",
       "        vertical-align: middle;\n",
       "    }\n",
       "\n",
       "    .dataframe tbody tr th {\n",
       "        vertical-align: top;\n",
       "    }\n",
       "\n",
       "    .dataframe thead th {\n",
       "        text-align: right;\n",
       "    }\n",
       "</style>\n",
       "<table border=\"1\" class=\"dataframe\">\n",
       "  <thead>\n",
       "    <tr style=\"text-align: right;\">\n",
       "      <th></th>\n",
       "      <th>TGT</th>\n",
       "      <th>LOW</th>\n",
       "      <th>PNW</th>\n",
       "      <th>SPGI</th>\n",
       "      <th>HRL</th>\n",
       "      <th>MAS</th>\n",
       "      <th>PCG</th>\n",
       "      <th>MAC</th>\n",
       "      <th>TMK</th>\n",
       "      <th>PCAR</th>\n",
       "    </tr>\n",
       "  </thead>\n",
       "  <tbody>\n",
       "    <tr>\n",
       "      <th>TGT</th>\n",
       "      <td>1.000000</td>\n",
       "      <td>0.110578</td>\n",
       "      <td>-0.590760</td>\n",
       "      <td>-0.052500</td>\n",
       "      <td>0.520174</td>\n",
       "      <td>-0.106973</td>\n",
       "      <td>-0.702795</td>\n",
       "      <td>0.454714</td>\n",
       "      <td>-0.224059</td>\n",
       "      <td>-0.236455</td>\n",
       "    </tr>\n",
       "    <tr>\n",
       "      <th>LOW</th>\n",
       "      <td>0.110578</td>\n",
       "      <td>1.000000</td>\n",
       "      <td>0.478170</td>\n",
       "      <td>0.777640</td>\n",
       "      <td>-0.306961</td>\n",
       "      <td>0.826290</td>\n",
       "      <td>-0.471178</td>\n",
       "      <td>-0.350148</td>\n",
       "      <td>0.739575</td>\n",
       "      <td>0.689116</td>\n",
       "    </tr>\n",
       "    <tr>\n",
       "      <th>PNW</th>\n",
       "      <td>-0.590760</td>\n",
       "      <td>0.478170</td>\n",
       "      <td>1.000000</td>\n",
       "      <td>0.681327</td>\n",
       "      <td>-0.647066</td>\n",
       "      <td>0.751528</td>\n",
       "      <td>0.300616</td>\n",
       "      <td>-0.676962</td>\n",
       "      <td>0.788270</td>\n",
       "      <td>0.772244</td>\n",
       "    </tr>\n",
       "    <tr>\n",
       "      <th>SPGI</th>\n",
       "      <td>-0.052500</td>\n",
       "      <td>0.777640</td>\n",
       "      <td>0.681327</td>\n",
       "      <td>1.000000</td>\n",
       "      <td>-0.461701</td>\n",
       "      <td>0.902670</td>\n",
       "      <td>-0.390935</td>\n",
       "      <td>-0.666263</td>\n",
       "      <td>0.909811</td>\n",
       "      <td>0.809140</td>\n",
       "    </tr>\n",
       "    <tr>\n",
       "      <th>HRL</th>\n",
       "      <td>0.520174</td>\n",
       "      <td>-0.306961</td>\n",
       "      <td>-0.647066</td>\n",
       "      <td>-0.461701</td>\n",
       "      <td>1.000000</td>\n",
       "      <td>-0.474248</td>\n",
       "      <td>-0.289631</td>\n",
       "      <td>0.582992</td>\n",
       "      <td>-0.572567</td>\n",
       "      <td>-0.580224</td>\n",
       "    </tr>\n",
       "    <tr>\n",
       "      <th>MAS</th>\n",
       "      <td>-0.106973</td>\n",
       "      <td>0.826290</td>\n",
       "      <td>0.751528</td>\n",
       "      <td>0.902670</td>\n",
       "      <td>-0.474248</td>\n",
       "      <td>1.000000</td>\n",
       "      <td>-0.258761</td>\n",
       "      <td>-0.537539</td>\n",
       "      <td>0.888894</td>\n",
       "      <td>0.862478</td>\n",
       "    </tr>\n",
       "    <tr>\n",
       "      <th>PCG</th>\n",
       "      <td>-0.702795</td>\n",
       "      <td>-0.471178</td>\n",
       "      <td>0.300616</td>\n",
       "      <td>-0.390935</td>\n",
       "      <td>-0.289631</td>\n",
       "      <td>-0.258761</td>\n",
       "      <td>1.000000</td>\n",
       "      <td>-0.059407</td>\n",
       "      <td>-0.226472</td>\n",
       "      <td>-0.094558</td>\n",
       "    </tr>\n",
       "    <tr>\n",
       "      <th>MAC</th>\n",
       "      <td>0.454714</td>\n",
       "      <td>-0.350148</td>\n",
       "      <td>-0.676962</td>\n",
       "      <td>-0.666263</td>\n",
       "      <td>0.582992</td>\n",
       "      <td>-0.537539</td>\n",
       "      <td>-0.059407</td>\n",
       "      <td>1.000000</td>\n",
       "      <td>-0.715927</td>\n",
       "      <td>-0.692463</td>\n",
       "    </tr>\n",
       "    <tr>\n",
       "      <th>TMK</th>\n",
       "      <td>-0.224059</td>\n",
       "      <td>0.739575</td>\n",
       "      <td>0.788270</td>\n",
       "      <td>0.909811</td>\n",
       "      <td>-0.572567</td>\n",
       "      <td>0.888894</td>\n",
       "      <td>-0.226472</td>\n",
       "      <td>-0.715927</td>\n",
       "      <td>1.000000</td>\n",
       "      <td>0.942536</td>\n",
       "    </tr>\n",
       "    <tr>\n",
       "      <th>PCAR</th>\n",
       "      <td>-0.236455</td>\n",
       "      <td>0.689116</td>\n",
       "      <td>0.772244</td>\n",
       "      <td>0.809140</td>\n",
       "      <td>-0.580224</td>\n",
       "      <td>0.862478</td>\n",
       "      <td>-0.094558</td>\n",
       "      <td>-0.692463</td>\n",
       "      <td>0.942536</td>\n",
       "      <td>1.000000</td>\n",
       "    </tr>\n",
       "  </tbody>\n",
       "</table>\n",
       "</div>"
      ],
      "text/plain": [
       "           TGT       LOW       PNW      SPGI       HRL       MAS       PCG  \\\n",
       "TGT   1.000000  0.110578 -0.590760 -0.052500  0.520174 -0.106973 -0.702795   \n",
       "LOW   0.110578  1.000000  0.478170  0.777640 -0.306961  0.826290 -0.471178   \n",
       "PNW  -0.590760  0.478170  1.000000  0.681327 -0.647066  0.751528  0.300616   \n",
       "SPGI -0.052500  0.777640  0.681327  1.000000 -0.461701  0.902670 -0.390935   \n",
       "HRL   0.520174 -0.306961 -0.647066 -0.461701  1.000000 -0.474248 -0.289631   \n",
       "MAS  -0.106973  0.826290  0.751528  0.902670 -0.474248  1.000000 -0.258761   \n",
       "PCG  -0.702795 -0.471178  0.300616 -0.390935 -0.289631 -0.258761  1.000000   \n",
       "MAC   0.454714 -0.350148 -0.676962 -0.666263  0.582992 -0.537539 -0.059407   \n",
       "TMK  -0.224059  0.739575  0.788270  0.909811 -0.572567  0.888894 -0.226472   \n",
       "PCAR -0.236455  0.689116  0.772244  0.809140 -0.580224  0.862478 -0.094558   \n",
       "\n",
       "           MAC       TMK      PCAR  \n",
       "TGT   0.454714 -0.224059 -0.236455  \n",
       "LOW  -0.350148  0.739575  0.689116  \n",
       "PNW  -0.676962  0.788270  0.772244  \n",
       "SPGI -0.666263  0.909811  0.809140  \n",
       "HRL   0.582992 -0.572567 -0.580224  \n",
       "MAS  -0.537539  0.888894  0.862478  \n",
       "PCG  -0.059407 -0.226472 -0.094558  \n",
       "MAC   1.000000 -0.715927 -0.692463  \n",
       "TMK  -0.715927  1.000000  0.942536  \n",
       "PCAR -0.692463  0.942536  1.000000  "
      ]
     },
     "execution_count": 23,
     "metadata": {},
     "output_type": "execute_result"
    }
   ],
   "source": [
    "df.corr()"
   ]
  },
  {
   "cell_type": "markdown",
   "metadata": {},
   "source": [
    "**Seaborn also has a great way of showing this to us visually, if colors stick out to you more than decimol values.**"
   ]
  },
  {
   "cell_type": "code",
   "execution_count": null,
   "metadata": {},
   "outputs": [],
   "source": [
    "# A:\n",
    "# sns.heatmap(df.corr())"
   ]
  },
  {
   "cell_type": "code",
   "execution_count": null,
   "metadata": {
    "collapsed": true
   },
   "outputs": [],
   "source": []
  },
  {
   "cell_type": "markdown",
   "metadata": {},
   "source": [
    "## more EDA related to your dataset here:"
   ]
  },
  {
   "cell_type": "code",
   "execution_count": null,
   "metadata": {
    "collapsed": true
   },
   "outputs": [],
   "source": []
  },
  {
   "cell_type": "markdown",
   "metadata": {},
   "source": [
    "## Describe has this EDA helped you to understand and get ready for your next step in your capstone project. How?"
   ]
  },
  {
   "cell_type": "code",
   "execution_count": null,
   "metadata": {
    "collapsed": true
   },
   "outputs": [],
   "source": []
  }
 ],
 "metadata": {
  "anaconda-cloud": {},
  "kernelspec": {
   "display_name": "Python 3",
   "language": "python",
   "name": "python3"
  },
  "language_info": {
   "codemirror_mode": {
    "name": "ipython",
    "version": 3
   },
   "file_extension": ".py",
   "mimetype": "text/x-python",
   "name": "python",
   "nbconvert_exporter": "python",
   "pygments_lexer": "ipython3",
   "version": "3.6.4"
  }
 },
 "nbformat": 4,
 "nbformat_minor": 1
}
